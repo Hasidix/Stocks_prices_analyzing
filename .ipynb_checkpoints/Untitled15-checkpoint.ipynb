{
 "cells": [
  {
   "cell_type": "code",
   "execution_count": 1,
   "metadata": {},
   "outputs": [],
   "source": [
    "import json\n",
    "from datetime import datetime\n",
    "import pandas as pd\n",
    "from math import sqrt\n",
    "import numpy as np\n",
    "from datetime import datetime, timedelta\n",
    "import matplotlib.pyplot as plt\n",
    "import scipy.stats as stats\n",
    "import math\n",
    "\n"
   ]
  },
  {
   "cell_type": "markdown",
   "metadata": {},
   "source": [
    " # Data Extraction :\n",
    " Function that let you choose the company you wanna extract stocks from and the start/end date of data that are willing to be extracted and display it into a dataframe.\n",
    " <br> And by default call, it imports all of the data existing in market_data.json."
   ]
  },
  {
   "cell_type": "code",
   "execution_count": 2,
   "metadata": {},
   "outputs": [],
   "source": [
    "def Stock_prices(companies=['MSFT', 'IBM', 'AAPL', 'FB', 'GOOG', 'NDX'], start_date=\"18/05/2012\",end_date=\"31/08/2018\"):\n",
    "    with open('market_data.json') as json_file:\n",
    "        data = json.load(json_file)\n",
    "\n",
    "    Company =[]\n",
    "    Date = []\n",
    "    Price = []\n",
    "\n",
    "    start_date_time = datetime.strptime(start_date, '%d/%m/%Y')\n",
    "    end_date_time = datetime.strptime(end_date, '%d/%m/%Y')\n",
    "\n",
    "    if start_date_time > end_date_time:\n",
    "        print(\"Error in days duration...Reset the duration of time\")   #Error in case of wrong typed dates\n",
    "    else:\n",
    "        for company in companies:   # Here begins the extraction\n",
    "            for infos in data[company]:\n",
    "                date = infos['data']['Date']\n",
    "                date_time = datetime.strptime(date, '%Y-%m-%dT%H:%M:%S')\n",
    "                if start_date_time <= date_time <= end_date_time:\n",
    "                    Company.append(company)\n",
    "                    Date.append(date_time.date())\n",
    "                    Price.append(infos['data']['price'])\n",
    "                else:\n",
    "                    continue\n",
    "        Stocks = {'Company':Company, 'Date': Date, 'Price': Price}\n",
    "        df = pd.DataFrame(Stocks, columns=['Date', 'Company',  'Price'])\n",
    "        Stocks=df.pivot(index='Date', columns='Company', values='Price')#Displaying the data extracted in a pandas dataframe for further easy usage\n",
    "        return Stocks\n"
   ]
  },
  {
   "cell_type": "code",
   "execution_count": 3,
   "metadata": {},
   "outputs": [
    {
     "data": {
      "text/html": [
       "<div>\n",
       "<style scoped>\n",
       "    .dataframe tbody tr th:only-of-type {\n",
       "        vertical-align: middle;\n",
       "    }\n",
       "\n",
       "    .dataframe tbody tr th {\n",
       "        vertical-align: top;\n",
       "    }\n",
       "\n",
       "    .dataframe thead th {\n",
       "        text-align: right;\n",
       "    }\n",
       "</style>\n",
       "<table border=\"1\" class=\"dataframe\">\n",
       "  <thead>\n",
       "    <tr style=\"text-align: right;\">\n",
       "      <th>Company</th>\n",
       "      <th>AAPL</th>\n",
       "      <th>GOOG</th>\n",
       "    </tr>\n",
       "    <tr>\n",
       "      <th>Date</th>\n",
       "      <th></th>\n",
       "      <th></th>\n",
       "    </tr>\n",
       "  </thead>\n",
       "  <tbody>\n",
       "    <tr>\n",
       "      <td>2017-01-03</td>\n",
       "      <td>110.392334</td>\n",
       "      <td>786.140015</td>\n",
       "    </tr>\n",
       "    <tr>\n",
       "      <td>2017-01-04</td>\n",
       "      <td>110.268791</td>\n",
       "      <td>786.900024</td>\n",
       "    </tr>\n",
       "    <tr>\n",
       "      <td>2017-01-05</td>\n",
       "      <td>110.829552</td>\n",
       "      <td>794.020020</td>\n",
       "    </tr>\n",
       "    <tr>\n",
       "      <td>2017-01-06</td>\n",
       "      <td>112.065109</td>\n",
       "      <td>806.150024</td>\n",
       "    </tr>\n",
       "    <tr>\n",
       "      <td>2017-01-09</td>\n",
       "      <td>113.091560</td>\n",
       "      <td>806.650024</td>\n",
       "    </tr>\n",
       "    <tr>\n",
       "      <td>2017-01-10</td>\n",
       "      <td>113.205620</td>\n",
       "      <td>804.789978</td>\n",
       "    </tr>\n",
       "    <tr>\n",
       "      <td>2017-01-11</td>\n",
       "      <td>113.813881</td>\n",
       "      <td>807.909973</td>\n",
       "    </tr>\n",
       "    <tr>\n",
       "      <td>2017-01-12</td>\n",
       "      <td>113.338661</td>\n",
       "      <td>806.359985</td>\n",
       "    </tr>\n",
       "    <tr>\n",
       "      <td>2017-01-13</td>\n",
       "      <td>113.139084</td>\n",
       "      <td>807.880005</td>\n",
       "    </tr>\n",
       "    <tr>\n",
       "      <td>2017-01-17</td>\n",
       "      <td>114.051498</td>\n",
       "      <td>804.609985</td>\n",
       "    </tr>\n",
       "  </tbody>\n",
       "</table>\n",
       "</div>"
      ],
      "text/plain": [
       "Company           AAPL        GOOG\n",
       "Date                              \n",
       "2017-01-03  110.392334  786.140015\n",
       "2017-01-04  110.268791  786.900024\n",
       "2017-01-05  110.829552  794.020020\n",
       "2017-01-06  112.065109  806.150024\n",
       "2017-01-09  113.091560  806.650024\n",
       "2017-01-10  113.205620  804.789978\n",
       "2017-01-11  113.813881  807.909973\n",
       "2017-01-12  113.338661  806.359985\n",
       "2017-01-13  113.139084  807.880005\n",
       "2017-01-17  114.051498  804.609985"
      ]
     },
     "execution_count": 3,
     "metadata": {},
     "output_type": "execute_result"
    }
   ],
   "source": [
    "df=Stock_prices(['GOOG','AAPL'],\"01/01/2017\",\"31/12/2018\")\n",
    "df.head(10)"
   ]
  },
  {
   "cell_type": "markdown",
   "metadata": {},
   "source": [
    "# Data Pre processing :\n",
    "## Missing values handling\n",
    "\n",
    "* Cheking for missing values.\n",
    "* Imputation by the geometric mean.\n",
    "\n",
    "\n"
   ]
  },
  {
   "cell_type": "code",
   "execution_count": 4,
   "metadata": {},
   "outputs": [
    {
     "name": "stdout",
     "output_type": "stream",
     "text": [
      "Company     AAPL   GOOG\n",
      "Date                   \n",
      "2017-09-08   NaN  926.5\n"
     ]
    }
   ],
   "source": [
    "null_data = df[df.isnull().any(axis=1)]\n",
    "print(null_data)"
   ]
  },
  {
   "cell_type": "markdown",
   "metadata": {},
   "source": [
    "After checking for the only missing value existing in our data, we are gonna write code the impute it with the geometric mean of the previous and next existing stock prices in our dataset."
   ]
  },
  {
   "cell_type": "code",
   "execution_count": 5,
   "metadata": {},
   "outputs": [
    {
     "name": "stdout",
     "output_type": "stream",
     "text": [
      "The Cell of the company AAPL  at  2017-09-08 has been filled with : 155.28847024645327\n"
     ]
    }
   ],
   "source": [
    "columns=['MSFT','IBM','AAPL','FB','GOOG','NDX']\n",
    "for column in columns:\n",
    "    if column in df.columns:\n",
    "        Y=df[df[column].isnull()].index.tolist()\n",
    "        for y in Y:\n",
    "            idx = np.searchsorted(df.index, y)\n",
    "            previous_date = df.index[max(0, idx-1)]\n",
    "            next_date = df.index[min(idx+1, len(df)-1)]\n",
    "            geo_mean=sqrt(df.at[previous_date, column]*df.at[next_date, column])\n",
    "            df.at[y, column]=geo_mean\n",
    "            print('The Cell of the company',column,' at ',y,'has been filled with :', geo_mean)\n",
    "    else:\n",
    "        continue\n",
    "    \n",
    "\n"
   ]
  },
  {
   "cell_type": "markdown",
   "metadata": {},
   "source": [
    "## Plot of the stock prices in the same graph"
   ]
  },
  {
   "cell_type": "code",
   "execution_count": 6,
   "metadata": {},
   "outputs": [
    {
     "data": {
      "text/plain": [
       "<matplotlib.legend.Legend at 0x1406b65ec48>"
      ]
     },
     "execution_count": 6,
     "metadata": {},
     "output_type": "execute_result"
    },
    {
     "data": {
      "image/png": "[encoded data removed]",
      "text/plain": [
       "<Figure size 432x288 with 1 Axes>"
      ]
     },
     "metadata": {
      "needs_background": "light"
     },
     "output_type": "display_data"
    }
   ],
   "source": [
    "for i, col in enumerate(df.columns):\n",
    "    df[col].plot()\n",
    "\n",
    "plt.title('Price Evolution Comparison')\n",
    "plt.xticks(rotation=70)\n",
    "plt.legend(df.columns)"
   ]
  },
  {
   "cell_type": "markdown",
   "metadata": {},
   "source": [
    "# Data wrangling\n",
    "## Stocks daily return:"
   ]
  },
  {
   "cell_type": "code",
   "execution_count": 7,
   "metadata": {},
   "outputs": [
    {
     "data": {
      "text/html": [
       "<div>\n",
       "<style scoped>\n",
       "    .dataframe tbody tr th:only-of-type {\n",
       "        vertical-align: middle;\n",
       "    }\n",
       "\n",
       "    .dataframe tbody tr th {\n",
       "        vertical-align: top;\n",
       "    }\n",
       "\n",
       "    .dataframe thead th {\n",
       "        text-align: right;\n",
       "    }\n",
       "</style>\n",
       "<table border=\"1\" class=\"dataframe\">\n",
       "  <thead>\n",
       "    <tr style=\"text-align: right;\">\n",
       "      <th>Company</th>\n",
       "      <th>AAPL</th>\n",
       "      <th>GOOG</th>\n",
       "    </tr>\n",
       "    <tr>\n",
       "      <th>Date</th>\n",
       "      <th></th>\n",
       "      <th></th>\n",
       "    </tr>\n",
       "  </thead>\n",
       "  <tbody>\n",
       "    <tr>\n",
       "      <td>2017-01-03</td>\n",
       "      <td>NaN</td>\n",
       "      <td>NaN</td>\n",
       "    </tr>\n",
       "    <tr>\n",
       "      <td>2017-01-04</td>\n",
       "      <td>-0.111912</td>\n",
       "      <td>0.096676</td>\n",
       "    </tr>\n",
       "    <tr>\n",
       "      <td>2017-01-05</td>\n",
       "      <td>0.508540</td>\n",
       "      <td>0.904816</td>\n",
       "    </tr>\n",
       "    <tr>\n",
       "      <td>2017-01-06</td>\n",
       "      <td>1.114827</td>\n",
       "      <td>1.527670</td>\n",
       "    </tr>\n",
       "    <tr>\n",
       "      <td>2017-01-09</td>\n",
       "      <td>0.915942</td>\n",
       "      <td>0.062023</td>\n",
       "    </tr>\n",
       "    <tr>\n",
       "      <td>...</td>\n",
       "      <td>...</td>\n",
       "      <td>...</td>\n",
       "    </tr>\n",
       "    <tr>\n",
       "      <td>2018-12-19</td>\n",
       "      <td>-3.119188</td>\n",
       "      <td>-0.554087</td>\n",
       "    </tr>\n",
       "    <tr>\n",
       "      <td>2018-12-24</td>\n",
       "      <td>-8.738869</td>\n",
       "      <td>-4.573762</td>\n",
       "    </tr>\n",
       "    <tr>\n",
       "      <td>2018-12-27</td>\n",
       "      <td>6.347458</td>\n",
       "      <td>6.930818</td>\n",
       "    </tr>\n",
       "    <tr>\n",
       "      <td>2018-12-28</td>\n",
       "      <td>0.051241</td>\n",
       "      <td>-0.651421</td>\n",
       "    </tr>\n",
       "    <tr>\n",
       "      <td>2018-12-31</td>\n",
       "      <td>0.966523</td>\n",
       "      <td>-0.141741</td>\n",
       "    </tr>\n",
       "  </tbody>\n",
       "</table>\n",
       "<p>484 rows × 2 columns</p>\n",
       "</div>"
      ],
      "text/plain": [
       "Company         AAPL      GOOG\n",
       "Date                          \n",
       "2017-01-03       NaN       NaN\n",
       "2017-01-04 -0.111912  0.096676\n",
       "2017-01-05  0.508540  0.904816\n",
       "2017-01-06  1.114827  1.527670\n",
       "2017-01-09  0.915942  0.062023\n",
       "...              ...       ...\n",
       "2018-12-19 -3.119188 -0.554087\n",
       "2018-12-24 -8.738869 -4.573762\n",
       "2018-12-27  6.347458  6.930818\n",
       "2018-12-28  0.051241 -0.651421\n",
       "2018-12-31  0.966523 -0.141741\n",
       "\n",
       "[484 rows x 2 columns]"
      ]
     },
     "execution_count": 7,
     "metadata": {},
     "output_type": "execute_result"
    }
   ],
   "source": [
    "def Percentage_daily_stock_return(df: pd.DataFrame):\n",
    "    returns = df.pct_change()*100\n",
    "    return returns\n",
    "\n",
    "Percentage_daily_stock_return(df)"
   ]
  },
  {
   "cell_type": "markdown",
   "metadata": {},
   "source": [
    "## The mean and standard deviation of the daily returns"
   ]
  },
  {
   "cell_type": "code",
   "execution_count": 8,
   "metadata": {},
   "outputs": [
    {
     "data": {
      "text/plain": [
       "Company\n",
       "AAPL    0.081770\n",
       "GOOG    0.067673\n",
       "dtype: float64"
      ]
     },
     "execution_count": 8,
     "metadata": {},
     "output_type": "execute_result"
    }
   ],
   "source": [
    "Percentage_daily_stock_return(df).mean()\n"
   ]
  },
  {
   "cell_type": "code",
   "execution_count": 9,
   "metadata": {},
   "outputs": [
    {
     "data": {
      "text/plain": [
       "Company\n",
       "AAPL    1.545777\n",
       "GOOG    1.455952\n",
       "dtype: float64"
      ]
     },
     "execution_count": 9,
     "metadata": {},
     "output_type": "execute_result"
    }
   ],
   "source": [
    "Percentage_daily_stock_return(df).std()"
   ]
  },
  {
   "cell_type": "markdown",
   "metadata": {},
   "source": [
    "## Annualizating of the mean and standard deviation\n"
   ]
  },
  {
   "cell_type": "markdown",
   "metadata": {},
   "source": [
    "Function the get over how many year our data is taking place :"
   ]
  },
  {
   "cell_type": "code",
   "execution_count": 10,
   "metadata": {},
   "outputs": [],
   "source": [
    "def Years_in(df: pd.DataFrame):\n",
    "    start_date = df.index[0]\n",
    "    end_date = df.index[-1]\n",
    "    return (end_date - start_date).days / 365"
   ]
  },
  {
   "cell_type": "code",
   "execution_count": 11,
   "metadata": {},
   "outputs": [
    {
     "data": {
      "text/plain": [
       "1.9917808219178081"
      ]
     },
     "execution_count": 11,
     "metadata": {},
     "output_type": "execute_result"
    }
   ],
   "source": [
    "Years_in(df)"
   ]
  },
  {
   "cell_type": "markdown",
   "metadata": {},
   "source": [
    "Function to get the annulized standard deviation :"
   ]
  },
  {
   "cell_type": "code",
   "execution_count": 12,
   "metadata": {},
   "outputs": [
    {
     "data": {
      "text/plain": [
       "Company\n",
       "AAPL    24.096215\n",
       "GOOG    22.695983\n",
       "dtype: float64"
      ]
     },
     "execution_count": 12,
     "metadata": {},
     "output_type": "execute_result"
    }
   ],
   "source": [
    "def Annualized_std(df: pd.DataFrame):\n",
    "    number_years = Years_in(df)\n",
    "    entries_per_year = df.shape[0] / number_years\n",
    "    return df.std() * np.sqrt(entries_per_year)\n",
    "Annualized_std(Percentage_daily_stock_return(df))"
   ]
  },
  {
   "cell_type": "markdown",
   "metadata": {},
   "source": [
    "Function to get the annulized mean of prices stock :"
   ]
  },
  {
   "cell_type": "code",
   "execution_count": 13,
   "metadata": {},
   "outputs": [
    {
     "data": {
      "text/plain": [
       "Company\n",
       "AAPL    0.184304\n",
       "GOOG    0.148405\n",
       "dtype: float64"
      ]
     },
     "execution_count": 13,
     "metadata": {},
     "output_type": "execute_result"
    }
   ],
   "source": [
    "def Annualized_mean(df: pd.DataFrame):\n",
    "    number_years = Years_in(df)\n",
    "    total_return = (df.iloc[-1]-df.iloc[0])/df.iloc[0]\n",
    "   \n",
    "    return (1+total_return)**(1/number_years)-1\n",
    "Annualized_mean(df)"
   ]
  },
  {
   "cell_type": "markdown",
   "metadata": {},
   "source": [
    "Function to estimate the interval of confident of a company at 90% :"
   ]
  },
  {
   "cell_type": "code",
   "execution_count": 14,
   "metadata": {},
   "outputs": [],
   "source": [
    "\n",
    "def interval_of_confident(Company):\n",
    "    if Company in df.columns:\n",
    "        daily_return = Percentage_daily_stock_return(df)\n",
    "        mean = Annualized_mean(df)[Company]\n",
    "        std = Annualized_std(daily_return)[Company]\n",
    "        a=stats.norm.interval(.90, loc = mean , scale = std/np.sqrt(Years_in(df)))\n",
    "        print (a)"
   ]
  },
  {
   "cell_type": "code",
   "execution_count": 15,
   "metadata": {},
   "outputs": [
    {
     "name": "stdout",
     "output_type": "stream",
     "text": [
      "(-27.899459363326738, 28.26806759036939)\n"
     ]
    }
   ],
   "source": [
    "interval_of_confident('AAPL')"
   ]
  },
  {
   "cell_type": "code",
   "execution_count": 16,
   "metadata": {
    "scrolled": true
   },
   "outputs": [
    {
     "name": "stdout",
     "output_type": "stream",
     "text": [
      "(-26.303410093237577, 26.600220383984606)\n"
     ]
    }
   ],
   "source": [
    "interval_of_confident('GOOG')"
   ]
  },
  {
   "cell_type": "markdown",
   "metadata": {},
   "source": [
    "We suppose now that we have invested 100 dollars on the beginning of the period and we wanna print the monthly return from each stock :"
   ]
  },
  {
   "cell_type": "code",
   "execution_count": 17,
   "metadata": {},
   "outputs": [
    {
     "name": "stdout",
     "output_type": "stream",
     "text": [
      "Stocks monthly value are :\n",
      "              AAPL stock price  GOOG stock price\n",
      "Month                                         \n",
      "2017-01-31        104.476969        101.354716\n",
      "2017-02-28        118.453705        104.715446\n",
      "2017-03-31        124.221153        105.523187\n",
      "2017-04-28        124.212487        115.241561\n",
      "2017-05-31        132.635011        122.733860\n",
      "2017-06-30        125.046443        115.593910\n",
      "2017-07-31        129.135930        118.363139\n",
      "2017-08-31        142.953419        119.486351\n",
      "2017-09-29        134.341322        122.002438\n",
      "2017-10-31        147.346611        129.320477\n",
      "2017-11-30        150.334500        129.927234\n",
      "2017-12-29        148.042524        133.106063\n",
      "2018-01-31        146.467884        148.820810\n",
      "2018-02-28        156.454805        140.525855\n",
      "2018-03-29        147.372486        131.247617\n",
      "2018-04-30        145.158993        129.408248\n",
      "2018-05-31        164.773441        138.014854\n",
      "2018-06-29        163.221553        141.914927\n",
      "2018-07-31        167.789044        154.840103\n",
      "2018-08-31        201.417687        154.958394\n",
      "2018-09-28        199.745337        151.813920\n",
      "2018-10-31        193.657598        136.969242\n",
      "2018-11-30        158.567313        139.215666\n",
      "2018-12-31        140.062756        131.733529\n"
     ]
    }
   ],
   "source": [
    "df.index = pd.to_datetime(df.index)\n",
    "\n",
    "stock_charges_owned_AAPL = 100/df.iloc[0]['AAPL']   #Stock of AAPL bought with 100 dollars\n",
    "stock_charges_owned_GOOG = 100/df.iloc[0]['GOOG']   #Stock of GOOG bought with 100 dollars\n",
    "\n",
    "# Code to group daily prices by months and store the last price stored in the month:\n",
    "month_df = df.groupby(pd.Grouper(freq=\"M\"))\n",
    "x = month_df.tail(1)\n",
    "\n",
    "# Creating the output dataframe containing [ Month  /  AAPl stocks price of the stock owned (stock owned * current price at the month)  / GOOG stocks price ]:\n",
    "Date_index = x.index.values.tolist()\n",
    "Months_list = pd.to_datetime(Date_index)\n",
    "\n",
    "AAPL = list(x['AAPL']*stock_charges_owned_AAPL)\n",
    "\n",
    "GOOG = list(x['GOOG']*stock_charges_owned_GOOG)\n",
    "\n",
    "result = pd.DataFrame(list(zip(Months_list,AAPL,GOOG)),columns =['Month', 'AAPL stock price','GOOG stock price']).set_index('Month')\n",
    "\n",
    "print(\"Stocks monthly value are :\\n \",result)"
   ]
  },
  {
   "cell_type": "markdown",
   "metadata": {},
   "source": [
    "The plot of the two investements in the same graph :"
   ]
  },
  {
   "cell_type": "code",
   "execution_count": 18,
   "metadata": {
    "scrolled": true
   },
   "outputs": [
    {
     "data": {
      "image/png": "[encoded data removed]",
      "text/plain": [
       "<Figure size 432x288 with 1 Axes>"
      ]
     },
     "metadata": {
      "needs_background": "light"
     },
     "output_type": "display_data"
    }
   ],
   "source": [
    "plt.plot(result['AAPL stock price'])\n",
    "plt.plot(result['GOOG stock price'])\n",
    "plt.title('Investement Evolution Comparison')\n",
    "plt.xticks(rotation=70)\n",
    "plt.legend(x.columns)\n",
    "plt.show()"
   ]
  },
  {
   "cell_type": "markdown",
   "metadata": {},
   "source": [
    "# Simulation of the best allocation of 100k dollars between them two stocks (AAPL and GOOG)\n"
   ]
  },
  {
   "cell_type": "markdown",
   "metadata": {},
   "source": [
    "* Function to calculate correlation coefficient because we will need it to compute the portfolio standard deviation of the two stocks."
   ]
  },
  {
   "cell_type": "code",
   "execution_count": 19,
   "metadata": {},
   "outputs": [],
   "source": [
    "def corr_stocks(df):\n",
    "    sum1 = df[df.columns[0]].sum()\n",
    "    sum2 = df[df.columns[1]].sum()\n",
    "    sum3 = (df[df.columns[0]] * df[df.columns[1]]).sum()\n",
    "    sum4 = (df[df.columns[0]] * df[df.columns[0]]).sum()\n",
    "    sum5 = (df[df.columns[1]] * df[df.columns[1]]).sum()\n",
    "    t = float(len(df.index))\n",
    "    corr1 = t * sum3 - (sum1 * sum2)\n",
    "    corr2 = math.sqrt((t*sum4 - math.pow(sum1, 2)) * (t * sum5 - math.pow(sum2,2)))\n",
    "    correlation = corr1 / corr2\n",
    "    return correlation\n",
    "\n"
   ]
  },
  {
   "cell_type": "markdown",
   "metadata": {},
   "source": [
    "* the simulation :"
   ]
  },
  {
   "cell_type": "code",
   "execution_count": 20,
   "metadata": {},
   "outputs": [
    {
     "name": "stdout",
     "output_type": "stream",
     "text": [
      "The portfolio with highest sharp ratio is :\n",
      "     weight_AAPL  weight_GOOG  Sharp_ratio\n",
      "47           47           53    11.154237\n",
      "The best allocation is the go for : [47] per cent in AAPL stocks and  [53]  in GOOG stocks .\n"
     ]
    }
   ],
   "source": [
    "weight_AAPL = list(range(0, 101, 1))\n",
    "weight_GOOG = list(range(100, -1, -1))\n",
    "weights_tuples = pd.DataFrame(list(zip(weight_AAPL, weight_GOOG)),columns =['weight_AAPL', 'weight_GOOG'])\n",
    "AAPL_expected_return = Annualized_mean(df)['AAPL']\n",
    "GOOG_expected_return = Annualized_mean(df)['AAPL']\n",
    "Correlation = corr_stocks(df)\n",
    "AAPL_std = Annualized_std(Percentage_daily_stock_return(df))['AAPL']\n",
    "GOOG_std = Annualized_std(Percentage_daily_stock_return(df))['GOOG']\n",
    "\n",
    "\n",
    "# Computing portfolio standard deviation :\n",
    "list = list(weights_tuples['weight_AAPL']*AAPL_std*weights_tuples['weight_AAPL']*AAPL_std+weights_tuples['weight_GOOG']*GOOG_std*weights_tuples['weight_GOOG']*GOOG_std+AAPL_std*GOOG_std*Correlation)\n",
    "\n",
    "Portfolio_std = np.sqrt(list)\n",
    "\n",
    "# Computing portfolio returns\n",
    "Annual_returns_AAPL = [(x/100)*100000*AAPL_expected_return for x in weights_tuples['weight_AAPL']]\n",
    "\n",
    "Annual_returns_GOOG = [(x/100)*100000*AAPL_expected_return for x in weights_tuples['weight_GOOG']]\n",
    "\n",
    "Portfolio_returns = [x + y for x, y in zip(Annual_returns_AAPL, Annual_returns_GOOG)]\n",
    "\n",
    "\n",
    "# Computing Sharp ratio of my data ... considering the risk free rate = 0.5 :\n",
    "Sharp_ratio = [(x-0.5)/y for x, y in zip(Portfolio_returns, Portfolio_std)]\n",
    "final_result = pd.DataFrame(zip(weight_AAPL,weight_GOOG,Sharp_ratio),columns =['weight_AAPL', 'weight_GOOG','Sharp_ratio'])\n",
    "\n",
    "\n",
    "# Get the portfolio with max Sharp ratio:\n",
    "print(\"The portfolio with highest sharp ratio is :\\n\" ,final_result[final_result['Sharp_ratio']==final_result['Sharp_ratio'].max()])\n",
    "print (\"The best allocation is the go for :\",final_result[final_result['Sharp_ratio']==final_result['Sharp_ratio'].max()]['weight_AAPL'].values,\"per cent in AAPL stocks and \",final_result[final_result['Sharp_ratio']==final_result['Sharp_ratio'].max()]['weight_GOOG'].values,\" in GOOG stocks .\")"
   ]
  },
  {
   "cell_type": "code",
   "execution_count": null,
   "metadata": {},
   "outputs": [],
   "source": []
  },
  {
   "cell_type": "code",
   "execution_count": null,
   "metadata": {},
   "outputs": [],
   "source": []
  },
  {
   "cell_type": "code",
   "execution_count": null,
   "metadata": {},
   "outputs": [],
   "source": []
  }
 ],
 "metadata": {
  "kernelspec": {
   "display_name": "Python 3",
   "language": "python",
   "name": "python3"
  },
  "language_info": {
   "codemirror_mode": {
    "name": "ipython",
    "version": 3
   },
   "file_extension": ".py",
   "mimetype": "text/x-python",
   "name": "python",
   "nbconvert_exporter": "python",
   "pygments_lexer": "ipython3",
   "version": "3.7.4"
  }
 },
 "nbformat": 4,
 "nbformat_minor": 2
}
